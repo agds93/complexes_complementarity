{
 "cells": [
  {
   "cell_type": "code",
   "execution_count": null,
   "id": "e359a682-7db9-4c7f-8927-5f06919debb7",
   "metadata": {
    "tags": []
   },
   "outputs": [],
   "source": [
    "import os, sys\n",
    "import numpy as np\n",
    "import matplotlib.pyplot as mpl\n",
    "import scipy as sp\n",
    "import pandas as pd\n",
    "from mayavi import mlab"
   ]
  },
  {
   "cell_type": "code",
   "execution_count": null,
   "id": "ff78ffde-c593-4d38-a7a0-9b60edc0b5a4",
   "metadata": {},
   "outputs": [],
   "source": [
    "sys.path.append(\"./bin/\")\n",
    "import ZernikeFunc as ZF\n",
    "import SurfaceFunc as SF\n",
    "import MyUtils as MU  # my personal collection of functions"
   ]
  },
  {
   "cell_type": "markdown",
   "id": "dd352087-d6bc-4056-9091-c6b7c4739c3a",
   "metadata": {
    "tags": []
   },
   "source": [
    "# Initial parameters"
   ]
  },
  {
   "cell_type": "code",
   "execution_count": null,
   "id": "27a1cb75-b6a7-416f-aae6-cc0daeaa4da8",
   "metadata": {},
   "outputs": [],
   "source": [
    "# Parameters definition\n",
    "Npixel = 25    # the plane edge in pixels\n",
    "Rs = 6         # the radius of the sphere that includes the patch\n",
    "Dpp = 0.5      # the distance between points of the same patch (needed to remove islands)\n",
    "center = 5000  # point of the surface used as center of the patch (default index value)\n",
    "ZOrder = 20    # the Zernike expansion order (needed only for Zernike Reconstruction)\n",
    "threshold = 5  # value to enstablish variance is high (in Angstrom units)\n",
    "Daa = 3        # threshold to find points in contact between two proteins (in Angstrom units)"
   ]
  },
  {
   "cell_type": "markdown",
   "id": "fc7f5269-377e-4abc-b33d-c074dbf6ed56",
   "metadata": {},
   "source": [
    "# Contact area between two surfaces"
   ]
  },
  {
   "cell_type": "code",
   "execution_count": null,
   "id": "ad5307bf-d17f-4795-acc0-22a4e7c117aa",
   "metadata": {},
   "outputs": [],
   "source": [
    "# To load surface and inizialize the surface class for protein A:\n",
    "surf_name_a = \"./data/3B0F_A_min.dms\"\n",
    "surf_a_ = pd.read_csv(surf_name_a)\n",
    "l_a = len(surf_a_[\"x\"])\n",
    "print(\"Npoints Protein A =\", l_a)\n",
    "surf_a = np.zeros((l_a, 6))\n",
    "surf_a[:,:] = surf_a_[[\"x\", \"y\", \"z\", \"Nx\", \"Ny\", \"Nz\"]]\n",
    "surf_a_obj = SF.Surface(surf_a[:,:], patch_num = 0, r0 = Rs, theta_max = 45)\n",
    "\n",
    "# To load surface and inizialize the surface class for protein B:\n",
    "surf_name_b = \"./data/3B0F_B_min.dms\"\n",
    "surf_b_ = pd.read_csv(surf_name_b) \n",
    "l_b = len(surf_b_[\"x\"])\n",
    "print(\"Npoints Protein B =\", l_b)\n",
    "surf_b = np.zeros((l_b, 6))\n",
    "surf_b[:,:] = surf_b_[[\"x\", \"y\", \"z\", \"Nx\", \"Ny\", \"Nz\"]]\n",
    "surf_b_obj = SF.Surface(surf_b[:,:], patch_num = 0, r0 = Rs, theta_max = 45)"
   ]
  },
  {
   "cell_type": "code",
   "execution_count": null,
   "id": "3fe8db39-20e1-4df6-ad84-81d4970db422",
   "metadata": {},
   "outputs": [],
   "source": [
    "# Research of contact points between the two proteins\n",
    "# in particular the patch center nearest to the center of mass of contact zone\n",
    "center_a, patch_prot_a, center_b, patch_prot_b = MU.GroupNearPoints(Daa, surf_a_obj, surf_b_obj)"
   ]
  },
  {
   "cell_type": "markdown",
   "id": "c6fc80ab-a8ae-4d5c-83a1-02033e8356d7",
   "metadata": {},
   "source": [
    "3D figures"
   ]
  },
  {
   "cell_type": "code",
   "execution_count": null,
   "id": "d8b92bc5-a07c-4848-93e3-7815643b8a35",
   "metadata": {},
   "outputs": [],
   "source": [
    "res1, c = SF.ConcatenateFigPlots([surf_a_obj.surface[:,:3],surf_b_obj.surface[:,:3]])\n",
    "SF.Plot3DPoints(res1[:,0], res1[:,1], res1[:,2], c, 0.3)"
   ]
  },
  {
   "cell_type": "code",
   "execution_count": null,
   "id": "efc95f71-cdb5-41d4-9242-70a70a1d95de",
   "metadata": {},
   "outputs": [],
   "source": [
    "cm = patch_prot_a[center_a]\n",
    "res1, c = SF.ConcatenateFigPlots([patch_prot_a,np.row_stack([cm,cm])])\n",
    "SF.Plot3DPoints(res1[:,0], res1[:,1], res1[:,2], c, 0.3)"
   ]
  },
  {
   "cell_type": "code",
   "execution_count": null,
   "id": "961c4720-a7f9-4f2f-8591-cbec4d0d7d9a",
   "metadata": {},
   "outputs": [],
   "source": [
    "cm = patch_prot_b[center_b]\n",
    "res1, c = SF.ConcatenateFigPlots([patch_prot_b,np.row_stack([cm,cm])])\n",
    "SF.Plot3DPoints(res1[:,0], res1[:,1], res1[:,2], c, 0.3)"
   ]
  },
  {
   "cell_type": "markdown",
   "id": "0e96d9f9-b2de-46b3-9f9d-c7c05fab35ee",
   "metadata": {},
   "source": [
    "To find the true indices of the points closest to the center of mass "
   ]
  },
  {
   "cell_type": "code",
   "execution_count": null,
   "id": "c2afe9e4-6f12-4939-9237-2d4f695c80c4",
   "metadata": {},
   "outputs": [],
   "source": [
    "# The indices of the points found by MU.GroupNearPoints are NOT referred to the entire surface of the relative protein, but are referred to the area of the contact surface.\n",
    "# I use MU.PointNearPoint to identify indexes with respect to whole surface.\n",
    "center_a_true = MU.PointNearPoint(surf_a[:,:3], patch_prot_a[center_a])\n",
    "center_b_true = MU.PointNearPoint(surf_b[:,:3], patch_prot_b[center_b])\n",
    "center_a = center_a_true\n",
    "center_b = center_b_true\n",
    "# center_a e center_b saranno usati anche in seguito"
   ]
  },
  {
   "cell_type": "code",
   "execution_count": null,
   "id": "6829caef-aa66-4443-adc9-95c10f3c7fd5",
   "metadata": {},
   "outputs": [],
   "source": [
    "# generation of patches with two methods\n",
    "plane_W_a, plane_P_a, plane_W_b, plane_P_b = MU.PatchesMethods(Npixel, surf_a_obj, center_a, surf_b_obj, center_b, Dpp)"
   ]
  },
  {
   "cell_type": "code",
   "execution_count": null,
   "id": "b50ec2bb-d7aa-4624-868b-410ea77d3bad",
   "metadata": {},
   "outputs": [],
   "source": [
    "# plots of patches with two methods\n",
    "MU.PlotPatchesComparison(\"A\", Npixel, Rs, plane_W_a, plane_P_a, center_a, Dpp, Daa, \"\", \"\")\n",
    "MU.PlotPatchesComparison(\"B\", Npixel, Rs, plane_W_b, plane_P_b, center_b, Dpp, Daa, \"\", \"\")"
   ]
  },
  {
   "cell_type": "code",
   "execution_count": null,
   "id": "e7cd3246-5954-4914-bf0b-fb6f80f34d9a",
   "metadata": {},
   "outputs": [],
   "source": [
    "# generation of processed patches\n",
    "plane_W_a_proc = surf_a_obj.EnlargePixels( surf_a_obj.FillTheGap_everywhere(plane_=plane_W_a) )\n",
    "plane_P_a_proc = surf_a_obj.EnlargePixels( surf_a_obj.FillTheGap_everywhere(plane_=plane_P_a) )\n",
    "plane_W_b_proc = surf_a_obj.EnlargePixels( surf_a_obj.FillTheGap_everywhere(plane_=plane_W_b) )\n",
    "plane_P_b_proc = surf_a_obj.EnlargePixels( surf_a_obj.FillTheGap_everywhere(plane_=plane_P_b) )"
   ]
  },
  {
   "cell_type": "code",
   "execution_count": null,
   "id": "a044bfe9-d328-4d1c-8f7f-a1b9b68e998a",
   "metadata": {},
   "outputs": [],
   "source": [
    "# plots of processed patches\n",
    "MU.PlotPatchesComparison(\"A\", Npixel, Rs, plane_W_a_proc, plane_P_a_proc, center_a, Dpp, Daa, \"\", \"\")\n",
    "MU.PlotPatchesComparison(\"B\", Npixel, Rs, plane_W_b_proc, plane_P_b_proc, center_b, Dpp, Daa, \"\", \"\")"
   ]
  },
  {
   "cell_type": "markdown",
   "id": "21d30fe3-d46e-4d18-a4b5-b9b8bbf8854f",
   "metadata": {},
   "source": [
    "# Complementarity"
   ]
  },
  {
   "cell_type": "code",
   "execution_count": null,
   "id": "885f725b-66da-4f01-b9c2-77ae67fa2b64",
   "metadata": {},
   "outputs": [],
   "source": [
    "%%time\n",
    "\n",
    "center_1 = center_a\n",
    "center_2 = center_b\n",
    "\n",
    "plane_W_1, plane_P_1, plane_W_2, plane_P_2 = MU.PatchesMethods(Npixel, surf_a_obj, center_1, surf_b_obj, center_2, Dpp)\n",
    "\n",
    "coeff_diff_a = MU.ZernikeCoeff_Distance(ZOrder, surf_a_obj, plane_W_1, surf_a_obj, plane_P_1)\n",
    "coeff_diff_b = MU.ZernikeCoeff_Distance(ZOrder, surf_b_obj, plane_W_2, surf_b_obj, plane_P_2)\n",
    "\n",
    "_, perc_W_a = MU.PercHigherVariance_Weights(\"var\", Npixel, surf_a_obj, center_1, Dpp, threshold)\n",
    "_, perc_P_a = MU.PercHigherVariance_Projections(\"var\", Npixel, surf_a_obj, center_1, Dpp, threshold)\n",
    "_, perc_W_b = MU.PercHigherVariance_Weights(\"var\", Npixel, surf_b_obj, center_2, Dpp, threshold)\n",
    "_, perc_P_b = MU.PercHigherVariance_Projections(\"var\", Npixel, surf_b_obj, center_2, Dpp, threshold)\n",
    "perc_a = np.absolute( perc_W_a - perc_P_a )\n",
    "perc_b = np.absolute( perc_W_b - perc_P_b )\n",
    "\n",
    "print(\"Protein A: Patch center = {}\".format(center_1))\n",
    "print(\"Protein B: Patch center = {}\".format(center_2))\n",
    "print(\"Patch A: Difference Zernike coefficients = {},  perc_a = {}\".format(coeff_diff_a,perc_a))\n",
    "print(\"Patch B: Difference Zernike coefficients = {},  perc_b = {}\".format(coeff_diff_b,perc_b))"
   ]
  },
  {
   "cell_type": "code",
   "execution_count": null,
   "id": "670a7a0c-8003-4c02-9791-4a37dd3601e4",
   "metadata": {},
   "outputs": [],
   "source": [
    "%%time\n",
    "\n",
    "with open(\"inv_vs_perc.txt\", \"w\") as last_file :\n",
    "    for i in range(100) :\n",
    "        center_1 = np.random.randint(5000,7000)\n",
    "        center_2 = np.random.randint(5000,7000)\n",
    "        plane_W_a, plane_P_a, plane_W_b, plane_P_b = MU.PatchesMethods(Npixel, surf_a_obj, center_1, surf_b_obj, center_2, Dpp)\n",
    "        coeff_diff_a = MU.ZernikeCoeff_Distance(ZOrder, surf_a_obj, plane_W_a, surf_a_obj, plane_P_a)\n",
    "        coeff_diff_b = MU.ZernikeCoeff_Distance(ZOrder, surf_b_obj, plane_W_b, surf_b_obj, plane_P_b)\n",
    "        _, perc_W_a = MU.PercHigherVariance_Weights(\"var\", Npixel, surf_a_obj, center_1, Dpp, threshold)\n",
    "        _, perc_P_a = MU.PercHigherVariance_Projections(\"var\", Npixel, surf_a_obj, center_1, Dpp, threshold)\n",
    "        _, perc_W_b = MU.PercHigherVariance_Weights(\"var\", Npixel, surf_b_obj, center_2, Dpp, threshold)\n",
    "        _, perc_P_b = MU.PercHigherVariance_Projections(\"var\", Npixel, surf_b_obj, center_2, Dpp, threshold)\n",
    "        perc_a = np.absolute( perc_W_a - perc_P_a )\n",
    "        perc_b = np.absolute( perc_W_b - perc_P_b )\n",
    "        last_file.write(\"{}\\t{}\\t{}\\t{}\\t{}\\t{}\\n\".format(center_1, center_2, coeff_diff_a, coeff_diff_b, perc_a, perc_b))"
   ]
  },
  {
   "cell_type": "code",
   "execution_count": null,
   "id": "db934240-1b26-4864-add2-d034cf045858",
   "metadata": {},
   "outputs": [],
   "source": [
    "coeff_a = np.loadtxt(\"./risultati/inv_vs_perc.txt\", usecols=2, unpack=True)\n",
    "coeff_b = np.loadtxt(\"./risultati/inv_vs_perc.txt\", usecols=3, unpack=True)\n",
    "perc_a = np.loadtxt(\"./risultati/inv_vs_perc.txt\", usecols=4, unpack=True)\n",
    "perc_b = np.loadtxt(\"./risultati/inv_vs_perc.txt\", usecols=5, unpack=True)\n",
    "\n",
    "fig, ax = mpl.subplots(nrows=1, ncols=1, figsize=(8,4), facecolor=\"white\", dpi=200)\n",
    "ax.set_xlabel(\"Difference of percentage\", fontsize=\"8\")\n",
    "ax.set_ylabel(\"Difference of invariants\", fontsize=\"8\")\n",
    "ax.tick_params(axis=\"both\", width =\"0.60\", color=\"black\", labelsize=\"6\")\n",
    "ax.locator_params(axis=\"x\", nbins=21)\n",
    "ax.locator_params(axis=\"y\", nbins=21)\n",
    "for side in ax.spines.keys():  # 'top', 'bottom', 'left', 'right'\n",
    "    ax.spines[side].set_linewidth(0.60)\n",
    "    ax.spines[side].set_color(\"black\")\n",
    "ax.plot(perc_a, coeff_a, \"o\", markersize=\"1\", label=\"Zone A\", color=\"blue\", rasterized=True)\n",
    "ax.plot(perc_b, coeff_b, \"o\", markersize=\"1\", label=\"Zone B\", color=\"red\", rasterized=True)\n",
    "ax.legend(fontsize=\"7\")\n",
    "fig.tight_layout()\n",
    "#mpl.savefig(\"inv_vs_perc.pdf\")"
   ]
  },
  {
   "cell_type": "code",
   "execution_count": null,
   "id": "297b10c6-6cca-446f-98f5-caccf03bf72f",
   "metadata": {},
   "outputs": [],
   "source": []
  }
 ],
 "metadata": {
  "kernelspec": {
   "display_name": "Python 3",
   "language": "python",
   "name": "python3"
  },
  "language_info": {
   "codemirror_mode": {
    "name": "ipython",
    "version": 3
   },
   "file_extension": ".py",
   "mimetype": "text/x-python",
   "name": "python",
   "nbconvert_exporter": "python",
   "pygments_lexer": "ipython3",
   "version": "3.8.10"
  }
 },
 "nbformat": 4,
 "nbformat_minor": 5
}
